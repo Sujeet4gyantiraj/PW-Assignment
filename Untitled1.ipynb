{
 "cells": [
  {
   "cell_type": "markdown",
   "id": "0846da24",
   "metadata": {},
   "source": [
    "# Q1. Which keyword is used to create a function? Create a function to return a list of odd numbers in the range of 1 to 25."
   ]
  },
  {
   "cell_type": "markdown",
   "id": "5fa2906d",
   "metadata": {},
   "source": [
    "Ans :-   'def' keyword used to create function in python "
   ]
  },
  {
   "cell_type": "code",
   "execution_count": null,
   "id": "6ca7a1e7",
   "metadata": {},
   "outputs": [],
   "source": [
    "def odd_num(n):\n",
    "    oddnumber=[]\n",
    "    for i in range(1,n):\n",
    "        if i%2!=0:\n",
    "            oddnumber.append(i)\n",
    "    return oddnumber\n",
    "odd_num(25)"
   ]
  },
  {
   "cell_type": "markdown",
   "id": "26fa1b09",
   "metadata": {},
   "source": [
    "# Q2. Why *args and **kwargs is used in some functions? Create a function each for *args and **kwargs to demonstrate their use."
   ]
  },
  {
   "cell_type": "markdown",
   "id": "7418cf39",
   "metadata": {},
   "source": [
    "Ans:- 1. *args is used to pass a variable number of arguments to a function. It is used to pass a non-key worded, variable-length argument list. \n",
    "\n",
    "\n",
    "2.  **kwargs in function definitions in python is used to pass a keyworded, variable-length argument list. We use the name kwargs with the double star. The reason is that the double star allows us to pass through keyword arguments (and any number of them).\n",
    "\n"
   ]
  },
  {
   "cell_type": "code",
   "execution_count": null,
   "id": "1cbc6c2d",
   "metadata": {},
   "outputs": [],
   "source": [
    "\n",
    "def myFun(*argv):\n",
    "    for arg in argv:\n",
    "        print(arg)\n",
    "myFun('Hello', 'Welcome', 'to', 'pwskills')"
   ]
  },
  {
   "cell_type": "code",
   "execution_count": null,
   "id": "7395b5af",
   "metadata": {},
   "outputs": [],
   "source": [
    "def myFun(**kwargs):\n",
    "    for key, value in kwargs.items():\n",
    "        print(\"%s == %s\" % (key, value))\n",
    "  \n",
    "  \n",
    "\n",
    "myFun(first='pwskills', mid='for', last='datascience')\n"
   ]
  },
  {
   "cell_type": "markdown",
   "id": "75744f91",
   "metadata": {},
   "source": [
    "# Q3. What is an iterator in python? Name the method used to initialise the iterator object and the method used for iteration. Use these methods to print the first five elements of the given list\n",
    "## [2, 4, 6, 8, 10, 12, 14,16, 18, 20]."
   ]
  },
  {
   "cell_type": "markdown",
   "id": "89898eec",
   "metadata": {},
   "source": [
    "Ans:- \n",
    "An iterator is an object that contains a countable number of values. An iterator is an object that can be iterated upon, meaning that you can traverse through all the values. Technically, in Python, an iterator is an object which implements the iterator protocol, which consist of the methods __iter__() and __next__() .\n",
    "\n",
    "The iterator object is initialized using the iter() method. It uses the next() method for iteration\n"
   ]
  },
  {
   "cell_type": "code",
   "execution_count": null,
   "id": "664306e0",
   "metadata": {},
   "outputs": [],
   "source": [
    "list1 = [2, 4, 6, 8, 10, 12, 14, 16, 18, 20]\n",
    "iter1 = iter(list1)\n",
    "next(iter1)\n",
    "\n",
    "\n",
    "#iter1.__next__()"
   ]
  },
  {
   "cell_type": "markdown",
   "id": "711ad43e",
   "metadata": {},
   "source": [
    "# Q4. What is a generator function in python? Why yield keyword is used? Give an example of a generator function."
   ]
  },
  {
   "cell_type": "markdown",
   "id": "4995558b",
   "metadata": {},
   "source": [
    "Ans:- A generator is a just function that returns an iterable object which we can iterate over (one value at a time).It has a yield statement instead of a return\n",
    "\n",
    "Using yield will result in a generator object."
   ]
  },
  {
   "cell_type": "code",
   "execution_count": null,
   "id": "4d6fde92",
   "metadata": {},
   "outputs": [],
   "source": [
    "def gen_fun(l):\n",
    "    for i in l:\n",
    "        yield i\n",
    "gen_fun([1,2,3,4,5])\n",
    "x =gen_fun([1,2,3,4,5]) \n",
    "next(x)"
   ]
  },
  {
   "cell_type": "markdown",
   "id": "0eada4e0",
   "metadata": {},
   "source": [
    "# Q5. Create a generator function for prime numbers less than 1000. Use the next() method to print the first 20 prime numbers."
   ]
  },
  {
   "cell_type": "code",
   "execution_count": 9,
   "id": "6e707ce4",
   "metadata": {},
   "outputs": [
    {
     "data": {
      "text/plain": [
       "[3, 5, 7, 11, 13, 17, 19, 23, 29, 31, 37, 41, 43, 47, 53, 59, 61, 67, 71, 73]"
      ]
     },
     "execution_count": 9,
     "metadata": {},
     "output_type": "execute_result"
    }
   ],
   "source": [
    "def getPrimes(givenNumber):\n",
    "    \n",
    "    # Initialize a list\n",
    "    primes = []\n",
    "    for possiblePrime in range(2, givenNumber + 1):\n",
    "        # Assume number is prime until shown it is not. \n",
    "        isPrime = True\n",
    "        for num in range(2, possiblePrime):\n",
    "            if possiblePrime % num == 0:\n",
    "                isPrime = False\n",
    "        if isPrime:\n",
    "            primes.append(possiblePrime)\n",
    "    yield (primes[1:21])\n",
    "    \n",
    "y= getPrimes(1000)\n",
    "next(y)\n"
   ]
  },
  {
   "cell_type": "code",
   "execution_count": 11,
   "id": "1213848e",
   "metadata": {},
   "outputs": [
    {
     "ename": "StopIteration",
     "evalue": "",
     "output_type": "error",
     "traceback": [
      "\u001b[1;31m---------------------------------------------------------------------------\u001b[0m",
      "\u001b[1;31mStopIteration\u001b[0m                             Traceback (most recent call last)",
      "Cell \u001b[1;32mIn[11], line 1\u001b[0m\n\u001b[1;32m----> 1\u001b[0m \u001b[38;5;28;43mnext\u001b[39;49m\u001b[43m(\u001b[49m\u001b[43my\u001b[49m\u001b[43m)\u001b[49m\n",
      "\u001b[1;31mStopIteration\u001b[0m: "
     ]
    }
   ],
   "source": [
    "next(y)"
   ]
  },
  {
   "cell_type": "code",
   "execution_count": null,
   "id": "26ee7b3d",
   "metadata": {},
   "outputs": [],
   "source": []
  }
 ],
 "metadata": {
  "kernelspec": {
   "display_name": "Python 3 (ipykernel)",
   "language": "python",
   "name": "python3"
  },
  "language_info": {
   "codemirror_mode": {
    "name": "ipython",
    "version": 3
   },
   "file_extension": ".py",
   "mimetype": "text/x-python",
   "name": "python",
   "nbconvert_exporter": "python",
   "pygments_lexer": "ipython3",
   "version": "3.8.16"
  }
 },
 "nbformat": 4,
 "nbformat_minor": 5
}
