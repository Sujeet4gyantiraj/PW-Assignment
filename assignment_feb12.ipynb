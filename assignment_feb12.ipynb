{
 "cells": [
  {
   "cell_type": "markdown",
   "id": "f529ee36",
   "metadata": {},
   "source": [
    "### Q1. What is an Exception in python? Write the difference between Exceptions and Syntax errors."
   ]
  },
  {
   "cell_type": "markdown",
   "id": "fa0e0f8b",
   "metadata": {},
   "source": [
    "Exceptions are raised when some internal events occur which change the normal flow of the program."
   ]
  },
  {
   "cell_type": "markdown",
   "id": "d07389a1",
   "metadata": {},
   "source": [
    "#### Difference:-\n",
    "Error is caused by the wrong syntax in the code. It leads to the termination of the program.\n",
    "        while Exceptions are raised when the program is syntactically correct, but the code results in an error. This error does         not stop the execution of the program, however, it changes the normal flow of the program."
   ]
  },
  {
   "cell_type": "markdown",
   "id": "60c2a299",
   "metadata": {},
   "source": [
    "### Q2. What happens when an exception is not handled? Explain with an example"
   ]
  },
  {
   "cell_type": "markdown",
   "id": "b320bf37",
   "metadata": {},
   "source": [
    "Interrupts the normal flow of the program."
   ]
  },
  {
   "cell_type": "markdown",
   "id": "d5f042ee",
   "metadata": {},
   "source": [
    "#### Example:- division by zero error change the flow of progrom"
   ]
  },
  {
   "cell_type": "code",
   "execution_count": 5,
   "id": "7c8eedf8",
   "metadata": {},
   "outputs": [
    {
     "ename": "ZeroDivisionError",
     "evalue": "division by zero",
     "output_type": "error",
     "traceback": [
      "\u001b[1;31m---------------------------------------------------------------------------\u001b[0m",
      "\u001b[1;31mZeroDivisionError\u001b[0m                         Traceback (most recent call last)",
      "Cell \u001b[1;32mIn[5], line 2\u001b[0m\n\u001b[0;32m      1\u001b[0m marks \u001b[38;5;241m=\u001b[39m \u001b[38;5;241m10000\u001b[39m\n\u001b[1;32m----> 2\u001b[0m a \u001b[38;5;241m=\u001b[39m \u001b[43mmarks\u001b[49m\u001b[43m \u001b[49m\u001b[38;5;241;43m/\u001b[39;49m\u001b[43m \u001b[49m\u001b[38;5;241;43m0\u001b[39;49m\n\u001b[0;32m      3\u001b[0m \u001b[38;5;28mprint\u001b[39m(a)\n",
      "\u001b[1;31mZeroDivisionError\u001b[0m: division by zero"
     ]
    }
   ],
   "source": [
    "marks = 10000\n",
    "a = marks / 0\n",
    "print(a)"
   ]
  },
  {
   "cell_type": "markdown",
   "id": "05f878aa",
   "metadata": {},
   "source": [
    "### Q3. Which Python statements are used to catch and handle exceptions? Explain with an example"
   ]
  },
  {
   "cell_type": "markdown",
   "id": "1a59754e",
   "metadata": {},
   "source": [
    "Try and except statements are used to catch and handle exceptions in Python."
   ]
  },
  {
   "cell_type": "markdown",
   "id": "a29e377c",
   "metadata": {},
   "source": [
    "#### Example :-   accessing array element out of bound"
   ]
  },
  {
   "cell_type": "code",
   "execution_count": 6,
   "id": "a4e84dd8",
   "metadata": {},
   "outputs": [
    {
     "name": "stdout",
     "output_type": "stream",
     "text": [
      "Second element = 2\n",
      "An error occurred\n"
     ]
    }
   ],
   "source": [
    "a = [1, 2, 3]\n",
    "try:\n",
    "    print (\"Second element = %d\" %(a[1]))\n",
    "    print (\"Fourth element = %d\" %(a[3]))\n",
    " \n",
    "except:\n",
    "    print (\"An error occurred\")"
   ]
  },
  {
   "cell_type": "markdown",
   "id": "ceadc61f",
   "metadata": {},
   "source": [
    "### Q4. Explain with an example:\n",
    "\n",
    "### a.try and else\n",
    "### b.finally\n",
    "### c.raise"
   ]
  },
  {
   "cell_type": "markdown",
   "id": "a0f0a229",
   "metadata": {},
   "source": [
    "#### a. try and else"
   ]
  },
  {
   "cell_type": "markdown",
   "id": "9c3ed3fc",
   "metadata": {},
   "source": [
    "#### Try: \n",
    "This block will test the excepted error to occur.\n",
    "#### Else:\n",
    "If there is no exception then this block will be executed."
   ]
  },
  {
   "cell_type": "markdown",
   "id": "5c3137d2",
   "metadata": {},
   "source": [
    "#### Example:-"
   ]
  },
  {
   "cell_type": "code",
   "execution_count": 9,
   "id": "ea7a7d93",
   "metadata": {},
   "outputs": [
    {
     "name": "stdout",
     "output_type": "stream",
     "text": [
      "Yeah ! Your answer is : 0\n"
     ]
    }
   ],
   "source": [
    "x,y = 2,4\n",
    "try:\n",
    "    result = x // y\n",
    "except ZeroDivisionError:\n",
    "    print(\"Sorry ! You are dividing by zero \")\n",
    "else:\n",
    "    print(\"Yeah ! Your answer is :\", result)"
   ]
  },
  {
   "cell_type": "markdown",
   "id": "733c3e0f",
   "metadata": {},
   "source": [
    "#### b.finally "
   ]
  },
  {
   "cell_type": "markdown",
   "id": "0d52fb2f",
   "metadata": {},
   "source": [
    "Finally block always gets executed either exception is generated or not"
   ]
  },
  {
   "cell_type": "markdown",
   "id": "a164ad5e",
   "metadata": {},
   "source": [
    "#### Example :-"
   ]
  },
  {
   "cell_type": "code",
   "execution_count": 11,
   "id": "0e5e9ac6",
   "metadata": {},
   "outputs": [
    {
     "name": "stdout",
     "output_type": "stream",
     "text": [
      "Sorry ! You are dividing by zero \n",
      "This is always executed\n"
     ]
    }
   ],
   "source": [
    "x,y = 2,0\n",
    "try:\n",
    "    result = x // y\n",
    "except ZeroDivisionError:\n",
    "    print(\"Sorry ! You are dividing by zero \")\n",
    "else:\n",
    "    print(\"Yeah ! Your answer is :\", result)\n",
    "finally: \n",
    "    print('This is always executed')  "
   ]
  },
  {
   "cell_type": "markdown",
   "id": "6da6443c",
   "metadata": {},
   "source": [
    "#### c.raise"
   ]
  },
  {
   "cell_type": "markdown",
   "id": "b923b8c1",
   "metadata": {},
   "source": [
    "Python raise Keyword is used to raise exceptions or errors. The raise keyword raises an error and stops the control flow of the program. It is used to bring up the current exception in an exception handler so that it can be handled further up the call stack."
   ]
  },
  {
   "cell_type": "markdown",
   "id": "a1a948a1",
   "metadata": {},
   "source": [
    "#### Example :-"
   ]
  },
  {
   "cell_type": "code",
   "execution_count": 12,
   "id": "269b1054",
   "metadata": {},
   "outputs": [
    {
     "ename": "Exception",
     "evalue": "The number shouldn't be an odd integer",
     "output_type": "error",
     "traceback": [
      "\u001b[1;31m---------------------------------------------------------------------------\u001b[0m",
      "\u001b[1;31mException\u001b[0m                                 Traceback (most recent call last)",
      "Cell \u001b[1;32mIn[12], line 4\u001b[0m\n\u001b[0;32m      1\u001b[0m a \u001b[38;5;241m=\u001b[39m \u001b[38;5;241m5\u001b[39m\n\u001b[0;32m      3\u001b[0m \u001b[38;5;28;01mif\u001b[39;00m a \u001b[38;5;241m%\u001b[39m \u001b[38;5;241m2\u001b[39m \u001b[38;5;241m!=\u001b[39m \u001b[38;5;241m0\u001b[39m:\n\u001b[1;32m----> 4\u001b[0m     \u001b[38;5;28;01mraise\u001b[39;00m \u001b[38;5;167;01mException\u001b[39;00m(\u001b[38;5;124m\"\u001b[39m\u001b[38;5;124mThe number shouldn\u001b[39m\u001b[38;5;124m'\u001b[39m\u001b[38;5;124mt be an odd integer\u001b[39m\u001b[38;5;124m\"\u001b[39m)\n",
      "\u001b[1;31mException\u001b[0m: The number shouldn't be an odd integer"
     ]
    }
   ],
   "source": [
    "a = 5\n",
    "  \n",
    "if a % 2 != 0:\n",
    "    raise Exception(\"The number shouldn't be an odd integer\")"
   ]
  },
  {
   "cell_type": "markdown",
   "id": "6575d855",
   "metadata": {},
   "source": [
    "### Q5. What are Custom Exceptions in python? Why do we need Custom Exceptions? Explain with an example"
   ]
  },
  {
   "cell_type": "markdown",
   "id": "af566bf2",
   "metadata": {},
   "source": [
    "Custom Exceptions are user-defined exceptions. Although there are many built-in exceptions but to manage  flexibility and  flow of program , we need to define custom exceptions to handle those kind of scenario."
   ]
  },
  {
   "cell_type": "markdown",
   "id": "d8e969e0",
   "metadata": {},
   "source": [
    "#### Example :-"
   ]
  },
  {
   "cell_type": "markdown",
   "id": "18e7668e",
   "metadata": {},
   "source": [
    "To check the valid age for voting of a person."
   ]
  },
  {
   "cell_type": "markdown",
   "id": "538e0ef6",
   "metadata": {},
   "source": [
    "### Q6. Create custom exception class. Use this class to handle an exception."
   ]
  },
  {
   "cell_type": "code",
   "execution_count": 15,
   "id": "691c29a9",
   "metadata": {},
   "outputs": [
    {
     "name": "stdout",
     "output_type": "stream",
     "text": [
      "Enter a number: 17\n",
      "Exception occurred: Invalid Age\n"
     ]
    }
   ],
   "source": [
    "class InvalidAgeException(Exception):\n",
    "    \"Raised when the input value is less than 18\"\n",
    "    pass\n",
    "\n",
    "# you need to guess this number\n",
    "number = 18\n",
    "\n",
    "try:\n",
    "    input_num = int(input(\"Enter a number: \"))\n",
    "    if input_num < number:\n",
    "        raise InvalidAgeException\n",
    "    else:\n",
    "        print(\"Eligible to Vote\")\n",
    "        \n",
    "except InvalidAgeException:\n",
    "    print(\"Exception occurred: Invalid Age\")"
   ]
  },
  {
   "cell_type": "code",
   "execution_count": null,
   "id": "387ee38f",
   "metadata": {},
   "outputs": [],
   "source": []
  }
 ],
 "metadata": {
  "kernelspec": {
   "display_name": "Python 3 (ipykernel)",
   "language": "python",
   "name": "python3"
  },
  "language_info": {
   "codemirror_mode": {
    "name": "ipython",
    "version": 3
   },
   "file_extension": ".py",
   "mimetype": "text/x-python",
   "name": "python",
   "nbconvert_exporter": "python",
   "pygments_lexer": "ipython3",
   "version": "3.11.1"
  }
 },
 "nbformat": 4,
 "nbformat_minor": 5
}
