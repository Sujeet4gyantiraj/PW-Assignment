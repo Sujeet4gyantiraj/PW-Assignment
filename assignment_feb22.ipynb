{
 "cells": [
  {
   "cell_type": "code",
   "execution_count": 2,
   "id": "b3d83828",
   "metadata": {},
   "outputs": [],
   "source": [
    "import pandas as pd"
   ]
  },
  {
   "cell_type": "code",
   "execution_count": 3,
   "id": "fd66f8ca",
   "metadata": {},
   "outputs": [
    {
     "data": {
      "text/plain": [
       "'1.5.3'"
      ]
     },
     "execution_count": 3,
     "metadata": {},
     "output_type": "execute_result"
    }
   ],
   "source": [
    "pd.__version__"
   ]
  },
  {
   "cell_type": "markdown",
   "id": "85221759",
   "metadata": {},
   "source": [
    "### Q1. Create a Pandas Series that contains the following data: 4, 8, 15, 16, 23, and 42. Then, print the series."
   ]
  },
  {
   "cell_type": "code",
   "execution_count": 19,
   "id": "1585d51d",
   "metadata": {},
   "outputs": [
    {
     "name": "stdout",
     "output_type": "stream",
     "text": [
      "0     4\n",
      "1     8\n",
      "2    15\n",
      "3    16\n",
      "4    23\n",
      "5    42\n",
      "dtype: int64\n"
     ]
    }
   ],
   "source": [
    "input = [4,8,15,16,23,42]\n",
    "series = pd.Series(input)\n",
    "print(series)"
   ]
  },
  {
   "cell_type": "markdown",
   "id": "bcfb764a",
   "metadata": {},
   "source": [
    "### Q2. Create a variable of list type containing 10 elements in it, and apply pandas.Series function on the\n",
    "### variable print it."
   ]
  },
  {
   "cell_type": "code",
   "execution_count": 28,
   "id": "43ca412c",
   "metadata": {},
   "outputs": [
    {
     "name": "stdout",
     "output_type": "stream",
     "text": [
      "1     a\n",
      "2     b\n",
      "3     c\n",
      "4     d\n",
      "5     e\n",
      "6     f\n",
      "7     g\n",
      "8     h\n",
      "9     i\n",
      "10    j\n",
      "dtype: object\n"
     ]
    }
   ],
   "source": [
    "list = ['a','b','c','d','e','f','g','h','i','j']\n",
    "type(list)\n",
    "pds = pd.Series(list,index=[1,2,3,4,5,6,7,8,9,10])\n",
    "print(pds)"
   ]
  },
  {
   "cell_type": "markdown",
   "id": "9158ebbd",
   "metadata": {},
   "source": [
    "### Q3. Create a Pandas DataFrame that contains the following data:\n",
    "Name      Age   Gender\n",
    "\n",
    "Alice     25    Female\n",
    "Bob       30    male\n",
    "Claire    27    Female\n"
   ]
  },
  {
   "cell_type": "code",
   "execution_count": 49,
   "id": "bb3b3ad9",
   "metadata": {},
   "outputs": [
    {
     "name": "stdout",
     "output_type": "stream",
     "text": [
      "     Name  Age  Gender\n",
      "0   Alice   25  Female\n",
      "1     Bob   30    male\n",
      "2  Claire   27  Female\n"
     ]
    }
   ],
   "source": [
    "data = {\n",
    "    \"Name\" : ['Alice','Bob','Claire'],\n",
    "    \"Age\" : [25,30,27],\n",
    "    \"Gender\" : ['Female','male','Female']\n",
    "}\n",
    "df = pd.DataFrame(data)\n",
    "print(df)"
   ]
  },
  {
   "cell_type": "markdown",
   "id": "484dc15a",
   "metadata": {},
   "source": [
    "### Q4. What is ‘DataFrame’ in pandas and how is it different from pandas.series? Explain with an example."
   ]
  },
  {
   "cell_type": "markdown",
   "id": "53ccdbaa",
   "metadata": {},
   "source": [
    " A Pandas DataFrame is a 2 dimensional data structure, like a 2 dimensional array, or a table with rows and columns.\n",
    "#### Difference "
   ]
  },
  {
   "cell_type": "markdown",
   "id": "956dfd74",
   "metadata": {},
   "source": [
    "Series is a one-dimensional array holding data of any type while DataFrame is a set or collection of Series.\n"
   ]
  },
  {
   "cell_type": "markdown",
   "id": "7f1d82fc",
   "metadata": {},
   "source": [
    "#### Example"
   ]
  },
  {
   "cell_type": "code",
   "execution_count": 56,
   "id": "0310854c",
   "metadata": {},
   "outputs": [
    {
     "name": "stdout",
     "output_type": "stream",
     "text": [
      "0    20\n",
      "1    25\n",
      "2    29\n",
      "dtype: int64\n",
      "0    a\n",
      "1    b\n",
      "2    c\n",
      "dtype: object\n",
      "  Name  Age\n",
      "0    a   20\n",
      "1    b   25\n",
      "2    c   29\n"
     ]
    }
   ],
   "source": [
    "age = [20,25,29]\n",
    "age_series = pd.Series(age)  #series (1d array)\n",
    "print(age_series)\n",
    "\n",
    "name = ['a','b','c']\n",
    "name_series = pd.Series(name)\n",
    "print(name_series)\n",
    "\n",
    "data = {\n",
    "    \"Name\" : name_series,\n",
    "    \"Age\" : age_series\n",
    "}\n",
    "df = pd.DataFrame(data)\n",
    "print(df)"
   ]
  },
  {
   "cell_type": "markdown",
   "id": "a9771912",
   "metadata": {},
   "source": [
    "### Q5. What are some common functions you can use to manipulate data in a Pandas DataFrame? Can\n",
    "### you give an example of when you might use one of these functions?"
   ]
  },
  {
   "cell_type": "code",
   "execution_count": null,
   "id": "b1c82755",
   "metadata": {},
   "outputs": [],
   "source": []
  },
  {
   "cell_type": "markdown",
   "id": "6b659b36",
   "metadata": {},
   "source": [
    "### Q6. Which of the following is mutable in nature Series, DataFrame, Panel?"
   ]
  },
  {
   "cell_type": "code",
   "execution_count": null,
   "id": "533ce1ab",
   "metadata": {},
   "outputs": [],
   "source": []
  },
  {
   "cell_type": "markdown",
   "id": "c8f99a4c",
   "metadata": {},
   "source": [
    "### Q7. Create a DataFrame using multiple Series. Explain with an example."
   ]
  },
  {
   "cell_type": "code",
   "execution_count": 57,
   "id": "d3f27499",
   "metadata": {},
   "outputs": [
    {
     "name": "stdout",
     "output_type": "stream",
     "text": [
      "0    25\n",
      "1    30\n",
      "2    27\n",
      "dtype: int64\n",
      "0     Alice\n",
      "1       Bob\n",
      "2    Claire\n",
      "dtype: object\n",
      "0    Female\n",
      "1      male\n",
      "2    Female\n",
      "dtype: object\n",
      "     Name  Age  Gender\n",
      "0   Alice   25  Female\n",
      "1     Bob   30    male\n",
      "2  Claire   27  Female\n"
     ]
    }
   ],
   "source": [
    "age = [25,30,27]\n",
    "age_series = pd.Series(age)  #series (1d array)\n",
    "print(age_series)\n",
    "\n",
    "name = ['Alice','Bob','Claire']\n",
    "name_series = pd.Series(name)\n",
    "print(name_series)\n",
    "\n",
    "gender = ['Female','male','Female']\n",
    "gender_series = pd.Series(gender)\n",
    "print(gender_series)\n",
    "\n",
    "data = {\n",
    "    \"Name\" : name_series,\n",
    "    \"Age\" : age_series,\n",
    "    \"Gender\" : gender_series\n",
    "}\n",
    "df = pd.DataFrame(data)\n",
    "print(df)"
   ]
  },
  {
   "cell_type": "code",
   "execution_count": null,
   "id": "a765e13d",
   "metadata": {},
   "outputs": [],
   "source": []
  }
 ],
 "metadata": {
  "kernelspec": {
   "display_name": "Python 3 (ipykernel)",
   "language": "python",
   "name": "python3"
  },
  "language_info": {
   "codemirror_mode": {
    "name": "ipython",
    "version": 3
   },
   "file_extension": ".py",
   "mimetype": "text/x-python",
   "name": "python",
   "nbconvert_exporter": "python",
   "pygments_lexer": "ipython3",
   "version": "3.11.1"
  }
 },
 "nbformat": 4,
 "nbformat_minor": 5
}
